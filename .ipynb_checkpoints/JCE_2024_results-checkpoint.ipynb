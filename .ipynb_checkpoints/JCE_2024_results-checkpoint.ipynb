{
 "cells": [
  {
   "cell_type": "code",
   "execution_count": 1,
   "id": "36ba6d14",
   "metadata": {},
   "outputs": [],
   "source": [
    "# Import python Libraries to be used for Data Analysis\n",
    "import pandas as pd\n",
    "import numpy as np\n",
    "import matplotlib.pyplot as plt\n",
    "import seaborn as sns"
   ]
  },
  {
   "cell_type": "code",
   "execution_count": 2,
   "id": "035350c6",
   "metadata": {},
   "outputs": [
    {
     "data": {
      "text/html": [
       "<div>\n",
       "<style scoped>\n",
       "    .dataframe tbody tr th:only-of-type {\n",
       "        vertical-align: middle;\n",
       "    }\n",
       "\n",
       "    .dataframe tbody tr th {\n",
       "        vertical-align: top;\n",
       "    }\n",
       "\n",
       "    .dataframe thead th {\n",
       "        text-align: right;\n",
       "    }\n",
       "</style>\n",
       "<table border=\"1\" class=\"dataframe\">\n",
       "  <thead>\n",
       "    <tr style=\"text-align: right;\">\n",
       "      <th></th>\n",
       "      <th>EXAMINATION NO.</th>\n",
       "      <th>Unnamed: 1</th>\n",
       "      <th>SEX</th>\n",
       "      <th>P/D</th>\n",
       "      <th>NAME (SURNAME FIRST)</th>\n",
       "      <th>Unnamed: 5</th>\n",
       "      <th>Unnamed: 6</th>\n",
       "      <th>AGR</th>\n",
       "      <th>BIO</th>\n",
       "      <th>Unnamed: 9</th>\n",
       "      <th>...</th>\n",
       "      <th>ENG</th>\n",
       "      <th>Unnamed: 14</th>\n",
       "      <th>GEO</th>\n",
       "      <th>HIS</th>\n",
       "      <th>MAT</th>\n",
       "      <th>PHY</th>\n",
       "      <th>SOC</th>\n",
       "      <th>WOO</th>\n",
       "      <th>RESULT</th>\n",
       "      <th>Unnamed: 22</th>\n",
       "    </tr>\n",
       "  </thead>\n",
       "  <tbody>\n",
       "    <tr>\n",
       "      <th>0</th>\n",
       "      <td>J0734/001</td>\n",
       "      <td>NaN</td>\n",
       "      <td>F</td>\n",
       "      <td>0</td>\n",
       "      <td>BANDA EMILY</td>\n",
       "      <td>NaN</td>\n",
       "      <td>NaN</td>\n",
       "      <td>D</td>\n",
       "      <td>D</td>\n",
       "      <td>NaN</td>\n",
       "      <td>...</td>\n",
       "      <td>D</td>\n",
       "      <td>NaN</td>\n",
       "      <td>C</td>\n",
       "      <td>F</td>\n",
       "      <td>D</td>\n",
       "      <td>D</td>\n",
       "      <td>D</td>\n",
       "      <td>NaN</td>\n",
       "      <td>PASS</td>\n",
       "      <td>NaN</td>\n",
       "    </tr>\n",
       "    <tr>\n",
       "      <th>1</th>\n",
       "      <td>J0734/002</td>\n",
       "      <td>NaN</td>\n",
       "      <td>F</td>\n",
       "      <td>0</td>\n",
       "      <td>BENARD TEREZA</td>\n",
       "      <td>NaN</td>\n",
       "      <td>NaN</td>\n",
       "      <td>C</td>\n",
       "      <td>D</td>\n",
       "      <td>NaN</td>\n",
       "      <td>...</td>\n",
       "      <td>D</td>\n",
       "      <td>NaN</td>\n",
       "      <td>C</td>\n",
       "      <td>D</td>\n",
       "      <td>C</td>\n",
       "      <td>D</td>\n",
       "      <td>D</td>\n",
       "      <td>NaN</td>\n",
       "      <td>PASS</td>\n",
       "      <td>NaN</td>\n",
       "    </tr>\n",
       "    <tr>\n",
       "      <th>2</th>\n",
       "      <td>J0734/003</td>\n",
       "      <td>NaN</td>\n",
       "      <td>F</td>\n",
       "      <td>0</td>\n",
       "      <td>BROWN GEORGINA ALICE</td>\n",
       "      <td>NaN</td>\n",
       "      <td>NaN</td>\n",
       "      <td>C</td>\n",
       "      <td>D</td>\n",
       "      <td>NaN</td>\n",
       "      <td>...</td>\n",
       "      <td>C</td>\n",
       "      <td>NaN</td>\n",
       "      <td>C</td>\n",
       "      <td>D</td>\n",
       "      <td>D</td>\n",
       "      <td>D</td>\n",
       "      <td>C</td>\n",
       "      <td>NaN</td>\n",
       "      <td>PASS</td>\n",
       "      <td>NaN</td>\n",
       "    </tr>\n",
       "    <tr>\n",
       "      <th>3</th>\n",
       "      <td>J0734/004</td>\n",
       "      <td>NaN</td>\n",
       "      <td>F</td>\n",
       "      <td>0</td>\n",
       "      <td>CHIKOLA CHISOMO</td>\n",
       "      <td>NaN</td>\n",
       "      <td>NaN</td>\n",
       "      <td>C</td>\n",
       "      <td>D</td>\n",
       "      <td>NaN</td>\n",
       "      <td>...</td>\n",
       "      <td>B</td>\n",
       "      <td>NaN</td>\n",
       "      <td>B</td>\n",
       "      <td>C</td>\n",
       "      <td>C</td>\n",
       "      <td>C</td>\n",
       "      <td>D</td>\n",
       "      <td>NaN</td>\n",
       "      <td>PASS</td>\n",
       "      <td>NaN</td>\n",
       "    </tr>\n",
       "    <tr>\n",
       "      <th>4</th>\n",
       "      <td>J0734/005</td>\n",
       "      <td>NaN</td>\n",
       "      <td>F</td>\n",
       "      <td>0</td>\n",
       "      <td>CHILEMBA MERVIS</td>\n",
       "      <td>NaN</td>\n",
       "      <td>NaN</td>\n",
       "      <td>C</td>\n",
       "      <td>D</td>\n",
       "      <td>NaN</td>\n",
       "      <td>...</td>\n",
       "      <td>D</td>\n",
       "      <td>NaN</td>\n",
       "      <td>C</td>\n",
       "      <td>D</td>\n",
       "      <td>D</td>\n",
       "      <td>D</td>\n",
       "      <td>D</td>\n",
       "      <td>NaN</td>\n",
       "      <td>PASS</td>\n",
       "      <td>NaN</td>\n",
       "    </tr>\n",
       "  </tbody>\n",
       "</table>\n",
       "<p>5 rows × 23 columns</p>\n",
       "</div>"
      ],
      "text/plain": [
       "  EXAMINATION NO.  Unnamed: 1 SEX  P/D  NAME (SURNAME FIRST)  Unnamed: 5  \\\n",
       "0       J0734/001         NaN   F    0           BANDA EMILY         NaN   \n",
       "1       J0734/002         NaN   F    0         BENARD TEREZA         NaN   \n",
       "2       J0734/003         NaN   F    0  BROWN GEORGINA ALICE         NaN   \n",
       "3       J0734/004         NaN   F    0       CHIKOLA CHISOMO         NaN   \n",
       "4       J0734/005         NaN   F    0       CHILEMBA MERVIS         NaN   \n",
       "\n",
       "   Unnamed: 6 AGR BIO  Unnamed: 9  ... ENG Unnamed: 14 GEO HIS  MAT PHY SOC  \\\n",
       "0         NaN   D   D         NaN  ...   D         NaN   C   F    D   D   D   \n",
       "1         NaN   C   D         NaN  ...   D         NaN   C   D    C   D   D   \n",
       "2         NaN   C   D         NaN  ...   C         NaN   C   D    D   D   C   \n",
       "3         NaN   C   D         NaN  ...   B         NaN   B   C    C   C   D   \n",
       "4         NaN   C   D         NaN  ...   D         NaN   C   D    D   D   D   \n",
       "\n",
       "   WOO RESULT Unnamed: 22  \n",
       "0  NaN   PASS         NaN  \n",
       "1  NaN   PASS         NaN  \n",
       "2  NaN   PASS         NaN  \n",
       "3  NaN   PASS         NaN  \n",
       "4  NaN   PASS         NaN  \n",
       "\n",
       "[5 rows x 23 columns]"
      ]
     },
     "execution_count": 2,
     "metadata": {},
     "output_type": "execute_result"
    }
   ],
   "source": [
    "# Load 2024 JCE results dataset (Internals)\n",
    "results = pd.read_csv(r\"C:\\Users\\j\\Documents\\Data Analytics Projects\\Support_Battalion_JCE_2024_results\\Results_jce.csv\")\n",
    "\n",
    "# Display the first 5 rows of the dataset\n",
    "results.head()"
   ]
  },
  {
   "cell_type": "code",
   "execution_count": 3,
   "id": "836d10d1",
   "metadata": {},
   "outputs": [
    {
     "data": {
      "text/plain": [
       "Index(['EXAMINATION NO.', 'Unnamed: 1', 'SEX', 'P/D', 'NAME (SURNAME FIRST)',\n",
       "       'Unnamed: 5', 'Unnamed: 6', 'AGR', 'BIO', 'Unnamed: 9', 'BKN', 'CHE',\n",
       "       'CHI', 'ENG', 'Unnamed: 14', 'GEO', 'HIS', 'MAT', 'PHY', 'SOC', 'WOO',\n",
       "       'RESULT', 'Unnamed: 22'],\n",
       "      dtype='object')"
      ]
     },
     "execution_count": 3,
     "metadata": {},
     "output_type": "execute_result"
    }
   ],
   "source": [
    "# Display column names\n",
    "results.columns"
   ]
  },
  {
   "cell_type": "code",
   "execution_count": 4,
   "id": "b12ca3cd",
   "metadata": {},
   "outputs": [
    {
     "name": "stdout",
     "output_type": "stream",
     "text": [
      "<class 'pandas.core.frame.DataFrame'>\n",
      "Index: 64 entries, BANDA EMILY to WALUZA MACSENSIOR DESMOND\n",
      "Data columns (total 14 columns):\n",
      " #   Column           Non-Null Count  Dtype \n",
      "---  ------           --------------  ----- \n",
      " 0   EXAMINATION NO.  64 non-null     object\n",
      " 1   SEX              64 non-null     object\n",
      " 2   AGR              64 non-null     object\n",
      " 3   BIO              64 non-null     object\n",
      " 4   BKN              64 non-null     object\n",
      " 5   CHE              64 non-null     object\n",
      " 6   CHI              64 non-null     object\n",
      " 7   ENG              64 non-null     object\n",
      " 8   GEO              64 non-null     object\n",
      " 9   HIS              64 non-null     object\n",
      " 10  MAT              64 non-null     object\n",
      " 11  PHY              63 non-null     object\n",
      " 12  SOC              64 non-null     object\n",
      " 13  RESULT           64 non-null     object\n",
      "dtypes: object(14)\n",
      "memory usage: 7.5+ KB\n"
     ]
    }
   ],
   "source": [
    "# Drop unncessary columns\n",
    "results.drop(['Unnamed: 1', 'P/D', 'Unnamed: 5', 'Unnamed: 6', 'Unnamed: 9', \\\n",
    "              'Unnamed: 14', 'WOO', 'Unnamed: 22'], axis = 1, inplace = True)\n",
    "\n",
    "# Clean the name column from \"NAME (SURNAME FIRST)\" to \"NAME\"\n",
    "results.rename(columns = {\"NAME (SURNAME FIRST)\": \"NAME\"}, inplace = True)\n",
    "\n",
    "# Set Name column as Index\n",
    "results.set_index('NAME', inplace = True)\n",
    "# Display data information\n",
    "results.info()"
   ]
  },
  {
   "cell_type": "code",
   "execution_count": 5,
   "id": "e6073495",
   "metadata": {},
   "outputs": [
    {
     "data": {
      "text/html": [
       "<div>\n",
       "<style scoped>\n",
       "    .dataframe tbody tr th:only-of-type {\n",
       "        vertical-align: middle;\n",
       "    }\n",
       "\n",
       "    .dataframe tbody tr th {\n",
       "        vertical-align: top;\n",
       "    }\n",
       "\n",
       "    .dataframe thead th {\n",
       "        text-align: right;\n",
       "    }\n",
       "</style>\n",
       "<table border=\"1\" class=\"dataframe\">\n",
       "  <thead>\n",
       "    <tr style=\"text-align: right;\">\n",
       "      <th></th>\n",
       "      <th>EXAMINATION NO.</th>\n",
       "      <th>SEX</th>\n",
       "      <th>AGR</th>\n",
       "      <th>BIO</th>\n",
       "      <th>BKN</th>\n",
       "      <th>CHE</th>\n",
       "      <th>CHI</th>\n",
       "      <th>ENG</th>\n",
       "      <th>GEO</th>\n",
       "      <th>HIS</th>\n",
       "      <th>MAT</th>\n",
       "      <th>PHY</th>\n",
       "      <th>SOC</th>\n",
       "      <th>RESULT</th>\n",
       "    </tr>\n",
       "    <tr>\n",
       "      <th>NAME</th>\n",
       "      <th></th>\n",
       "      <th></th>\n",
       "      <th></th>\n",
       "      <th></th>\n",
       "      <th></th>\n",
       "      <th></th>\n",
       "      <th></th>\n",
       "      <th></th>\n",
       "      <th></th>\n",
       "      <th></th>\n",
       "      <th></th>\n",
       "      <th></th>\n",
       "      <th></th>\n",
       "      <th></th>\n",
       "    </tr>\n",
       "  </thead>\n",
       "  <tbody>\n",
       "    <tr>\n",
       "      <th>JAMALI JOSOPHINE</th>\n",
       "      <td>J0734/012</td>\n",
       "      <td>F</td>\n",
       "      <td>AB</td>\n",
       "      <td>AB</td>\n",
       "      <td>AB</td>\n",
       "      <td>D</td>\n",
       "      <td>AB</td>\n",
       "      <td>AB</td>\n",
       "      <td>AB</td>\n",
       "      <td>AB</td>\n",
       "      <td>AB</td>\n",
       "      <td>AB</td>\n",
       "      <td>AB</td>\n",
       "      <td>FAIL</td>\n",
       "    </tr>\n",
       "    <tr>\n",
       "      <th>TSANZO MPHATSO EDINAH</th>\n",
       "      <td>J0734/039</td>\n",
       "      <td>F</td>\n",
       "      <td>AB</td>\n",
       "      <td>AB</td>\n",
       "      <td>AB</td>\n",
       "      <td>D</td>\n",
       "      <td>AB</td>\n",
       "      <td>AB</td>\n",
       "      <td>AB</td>\n",
       "      <td>AB</td>\n",
       "      <td>AB</td>\n",
       "      <td>AB</td>\n",
       "      <td>AB</td>\n",
       "      <td>FAIL</td>\n",
       "    </tr>\n",
       "  </tbody>\n",
       "</table>\n",
       "</div>"
      ],
      "text/plain": [
       "                      EXAMINATION NO. SEX AGR BIO BKN CHE CHI ENG GEO HIS MAT  \\\n",
       "NAME                                                                            \n",
       "JAMALI JOSOPHINE            J0734/012   F  AB  AB  AB   D  AB  AB  AB  AB  AB   \n",
       "TSANZO MPHATSO EDINAH       J0734/039   F  AB  AB  AB   D  AB  AB  AB  AB  AB   \n",
       "\n",
       "                      PHY SOC RESULT  \n",
       "NAME                                  \n",
       "JAMALI JOSOPHINE       AB  AB   FAIL  \n",
       "TSANZO MPHATSO EDINAH  AB  AB   FAIL  "
      ]
     },
     "execution_count": 5,
     "metadata": {},
     "output_type": "execute_result"
    }
   ],
   "source": [
    "# Identify candidates that were absent for the exams\n",
    "absentees = results[results['ENG'] == 'AB']\n",
    "# Display the records of Absentees\n",
    "absentees"
   ]
  },
  {
   "cell_type": "code",
   "execution_count": 6,
   "id": "596ad662",
   "metadata": {},
   "outputs": [
    {
     "data": {
      "text/plain": [
       "(62, 14)"
      ]
     },
     "execution_count": 6,
     "metadata": {},
     "output_type": "execute_result"
    }
   ],
   "source": [
    "# Drop records for Absentees\n",
    "results.drop(['JAMALI JOSOPHINE', 'TSANZO MPHATSO EDINAH'], inplace = True)\n",
    "\n",
    "# Display the number of remaining records and columns (After we drop unnecessary columns and rows for Absentees)\n",
    "results.shape"
   ]
  },
  {
   "cell_type": "code",
   "execution_count": 7,
   "id": "5b5aa5b0",
   "metadata": {},
   "outputs": [
    {
     "data": {
      "text/html": [
       "<div>\n",
       "<style scoped>\n",
       "    .dataframe tbody tr th:only-of-type {\n",
       "        vertical-align: middle;\n",
       "    }\n",
       "\n",
       "    .dataframe tbody tr th {\n",
       "        vertical-align: top;\n",
       "    }\n",
       "\n",
       "    .dataframe thead th {\n",
       "        text-align: right;\n",
       "    }\n",
       "</style>\n",
       "<table border=\"1\" class=\"dataframe\">\n",
       "  <thead>\n",
       "    <tr style=\"text-align: right;\">\n",
       "      <th></th>\n",
       "      <th>EXAMINATION NO.</th>\n",
       "      <th>SEX</th>\n",
       "      <th>AGR</th>\n",
       "      <th>BIO</th>\n",
       "      <th>BKN</th>\n",
       "      <th>CHE</th>\n",
       "      <th>CHI</th>\n",
       "      <th>ENG</th>\n",
       "      <th>GEO</th>\n",
       "      <th>HIS</th>\n",
       "      <th>MAT</th>\n",
       "      <th>PHY</th>\n",
       "      <th>SOC</th>\n",
       "      <th>RESULT</th>\n",
       "    </tr>\n",
       "    <tr>\n",
       "      <th>NAME</th>\n",
       "      <th></th>\n",
       "      <th></th>\n",
       "      <th></th>\n",
       "      <th></th>\n",
       "      <th></th>\n",
       "      <th></th>\n",
       "      <th></th>\n",
       "      <th></th>\n",
       "      <th></th>\n",
       "      <th></th>\n",
       "      <th></th>\n",
       "      <th></th>\n",
       "      <th></th>\n",
       "      <th></th>\n",
       "    </tr>\n",
       "  </thead>\n",
       "  <tbody>\n",
       "    <tr>\n",
       "      <th>KACHINGWE BRIGHT PRINCE</th>\n",
       "      <td>J0734/053</td>\n",
       "      <td>M</td>\n",
       "      <td>A</td>\n",
       "      <td>B</td>\n",
       "      <td>A</td>\n",
       "      <td>B</td>\n",
       "      <td>B</td>\n",
       "      <td>B</td>\n",
       "      <td>B</td>\n",
       "      <td>B</td>\n",
       "      <td>A</td>\n",
       "      <td>B</td>\n",
       "      <td>D</td>\n",
       "      <td>PASS</td>\n",
       "    </tr>\n",
       "    <tr>\n",
       "      <th>WALUZA MACSENSIOR DESMOND</th>\n",
       "      <td>J0734/064</td>\n",
       "      <td>M</td>\n",
       "      <td>B</td>\n",
       "      <td>B</td>\n",
       "      <td>A</td>\n",
       "      <td>B</td>\n",
       "      <td>B</td>\n",
       "      <td>C</td>\n",
       "      <td>A</td>\n",
       "      <td>C</td>\n",
       "      <td>B</td>\n",
       "      <td>B</td>\n",
       "      <td>C</td>\n",
       "      <td>PASS</td>\n",
       "    </tr>\n",
       "    <tr>\n",
       "      <th>KAMBAUWA MERCY PHIRI</th>\n",
       "      <td>J0734/016</td>\n",
       "      <td>F</td>\n",
       "      <td>B</td>\n",
       "      <td>C</td>\n",
       "      <td>A</td>\n",
       "      <td>C</td>\n",
       "      <td>C</td>\n",
       "      <td>B</td>\n",
       "      <td>C</td>\n",
       "      <td>D</td>\n",
       "      <td>B</td>\n",
       "      <td>C</td>\n",
       "      <td>D</td>\n",
       "      <td>PASS</td>\n",
       "    </tr>\n",
       "    <tr>\n",
       "      <th>DZUUNDE OLIVE DIVEA</th>\n",
       "      <td>J0734/009</td>\n",
       "      <td>F</td>\n",
       "      <td>B</td>\n",
       "      <td>C</td>\n",
       "      <td>C</td>\n",
       "      <td>C</td>\n",
       "      <td>B</td>\n",
       "      <td>C</td>\n",
       "      <td>C</td>\n",
       "      <td>C</td>\n",
       "      <td>B</td>\n",
       "      <td>D</td>\n",
       "      <td>D</td>\n",
       "      <td>PASS</td>\n",
       "    </tr>\n",
       "    <tr>\n",
       "      <th>JAMALI CALEB</th>\n",
       "      <td>J0734/051</td>\n",
       "      <td>M</td>\n",
       "      <td>B</td>\n",
       "      <td>C</td>\n",
       "      <td>C</td>\n",
       "      <td>D</td>\n",
       "      <td>C</td>\n",
       "      <td>C</td>\n",
       "      <td>B</td>\n",
       "      <td>B</td>\n",
       "      <td>C</td>\n",
       "      <td>D</td>\n",
       "      <td>C</td>\n",
       "      <td>PASS</td>\n",
       "    </tr>\n",
       "    <tr>\n",
       "      <th>NAMAN JOSIAH JOSHUA</th>\n",
       "      <td>J0734/061</td>\n",
       "      <td>M</td>\n",
       "      <td>B</td>\n",
       "      <td>C</td>\n",
       "      <td>D</td>\n",
       "      <td>C</td>\n",
       "      <td>C</td>\n",
       "      <td>D</td>\n",
       "      <td>B</td>\n",
       "      <td>C</td>\n",
       "      <td>D</td>\n",
       "      <td>D</td>\n",
       "      <td>D</td>\n",
       "      <td>PASS</td>\n",
       "    </tr>\n",
       "    <tr>\n",
       "      <th>GOMIWA MARY SERINA</th>\n",
       "      <td>J0734/010</td>\n",
       "      <td>F</td>\n",
       "      <td>C</td>\n",
       "      <td>C</td>\n",
       "      <td>A</td>\n",
       "      <td>C</td>\n",
       "      <td>B</td>\n",
       "      <td>B</td>\n",
       "      <td>A</td>\n",
       "      <td>C</td>\n",
       "      <td>B</td>\n",
       "      <td>C</td>\n",
       "      <td>D</td>\n",
       "      <td>PASS</td>\n",
       "    </tr>\n",
       "    <tr>\n",
       "      <th>NKHOMA SELLA</th>\n",
       "      <td>J0734/033</td>\n",
       "      <td>F</td>\n",
       "      <td>C</td>\n",
       "      <td>C</td>\n",
       "      <td>A</td>\n",
       "      <td>C</td>\n",
       "      <td>B</td>\n",
       "      <td>C</td>\n",
       "      <td>B</td>\n",
       "      <td>C</td>\n",
       "      <td>C</td>\n",
       "      <td>C</td>\n",
       "      <td>D</td>\n",
       "      <td>PASS</td>\n",
       "    </tr>\n",
       "    <tr>\n",
       "      <th>KACHINGWE LONELY CHISOMO</th>\n",
       "      <td>J0734/015</td>\n",
       "      <td>F</td>\n",
       "      <td>C</td>\n",
       "      <td>C</td>\n",
       "      <td>A</td>\n",
       "      <td>C</td>\n",
       "      <td>B</td>\n",
       "      <td>C</td>\n",
       "      <td>C</td>\n",
       "      <td>C</td>\n",
       "      <td>B</td>\n",
       "      <td>C</td>\n",
       "      <td>C</td>\n",
       "      <td>PASS</td>\n",
       "    </tr>\n",
       "    <tr>\n",
       "      <th>NKHOSA BEAUTY</th>\n",
       "      <td>J0734/034</td>\n",
       "      <td>F</td>\n",
       "      <td>C</td>\n",
       "      <td>C</td>\n",
       "      <td>A</td>\n",
       "      <td>C</td>\n",
       "      <td>C</td>\n",
       "      <td>C</td>\n",
       "      <td>B</td>\n",
       "      <td>C</td>\n",
       "      <td>B</td>\n",
       "      <td>D</td>\n",
       "      <td>D</td>\n",
       "      <td>PASS</td>\n",
       "    </tr>\n",
       "  </tbody>\n",
       "</table>\n",
       "</div>"
      ],
      "text/plain": [
       "                          EXAMINATION NO. SEX AGR BIO BKN CHE CHI ENG GEO HIS  \\\n",
       "NAME                                                                            \n",
       "KACHINGWE BRIGHT PRINCE         J0734/053   M   A   B   A   B   B   B   B   B   \n",
       "WALUZA MACSENSIOR DESMOND       J0734/064   M   B   B   A   B   B   C   A   C   \n",
       "KAMBAUWA MERCY PHIRI            J0734/016   F   B   C   A   C   C   B   C   D   \n",
       "DZUUNDE OLIVE DIVEA             J0734/009   F   B   C   C   C   B   C   C   C   \n",
       "JAMALI CALEB                    J0734/051   M   B   C   C   D   C   C   B   B   \n",
       "NAMAN JOSIAH JOSHUA             J0734/061   M   B   C   D   C   C   D   B   C   \n",
       "GOMIWA MARY SERINA              J0734/010   F   C   C   A   C   B   B   A   C   \n",
       "NKHOMA SELLA                    J0734/033   F   C   C   A   C   B   C   B   C   \n",
       "KACHINGWE LONELY CHISOMO        J0734/015   F   C   C   A   C   B   C   C   C   \n",
       "NKHOSA BEAUTY                   J0734/034   F   C   C   A   C   C   C   B   C   \n",
       "\n",
       "                          MAT PHY SOC RESULT  \n",
       "NAME                                          \n",
       "KACHINGWE BRIGHT PRINCE     A   B   D   PASS  \n",
       "WALUZA MACSENSIOR DESMOND   B   B   C   PASS  \n",
       "KAMBAUWA MERCY PHIRI        B   C   D   PASS  \n",
       "DZUUNDE OLIVE DIVEA         B   D   D   PASS  \n",
       "JAMALI CALEB                C   D   C   PASS  \n",
       "NAMAN JOSIAH JOSHUA         D   D   D   PASS  \n",
       "GOMIWA MARY SERINA          B   C   D   PASS  \n",
       "NKHOMA SELLA                C   C   D   PASS  \n",
       "KACHINGWE LONELY CHISOMO    B   C   C   PASS  \n",
       "NKHOSA BEAUTY               B   D   D   PASS  "
      ]
     },
     "execution_count": 7,
     "metadata": {},
     "output_type": "execute_result"
    }
   ],
   "source": [
    "# Display the top ten performing students\n",
    "top_ten = results.sort_values(by = ['AGR', 'BIO', 'BKN', 'CHE', 'CHI', 'ENG', 'GEO', 'HIS', 'MAT', 'SOC'])[:10]\n",
    "top_ten"
   ]
  },
  {
   "cell_type": "code",
   "execution_count": 8,
   "id": "e51ed537",
   "metadata": {},
   "outputs": [
    {
     "data": {
      "text/html": [
       "<div>\n",
       "<style scoped>\n",
       "    .dataframe tbody tr th:only-of-type {\n",
       "        vertical-align: middle;\n",
       "    }\n",
       "\n",
       "    .dataframe tbody tr th {\n",
       "        vertical-align: top;\n",
       "    }\n",
       "\n",
       "    .dataframe thead th {\n",
       "        text-align: right;\n",
       "    }\n",
       "</style>\n",
       "<table border=\"1\" class=\"dataframe\">\n",
       "  <thead>\n",
       "    <tr style=\"text-align: right;\">\n",
       "      <th></th>\n",
       "      <th>Grade</th>\n",
       "      <th>Agr_frequency</th>\n",
       "    </tr>\n",
       "  </thead>\n",
       "  <tbody>\n",
       "    <tr>\n",
       "      <th>0</th>\n",
       "      <td>A</td>\n",
       "      <td>1</td>\n",
       "    </tr>\n",
       "    <tr>\n",
       "      <th>1</th>\n",
       "      <td>B</td>\n",
       "      <td>5</td>\n",
       "    </tr>\n",
       "    <tr>\n",
       "      <th>2</th>\n",
       "      <td>C</td>\n",
       "      <td>26</td>\n",
       "    </tr>\n",
       "    <tr>\n",
       "      <th>3</th>\n",
       "      <td>D</td>\n",
       "      <td>28</td>\n",
       "    </tr>\n",
       "    <tr>\n",
       "      <th>4</th>\n",
       "      <td>F</td>\n",
       "      <td>2</td>\n",
       "    </tr>\n",
       "  </tbody>\n",
       "</table>\n",
       "</div>"
      ],
      "text/plain": [
       "  Grade  Agr_frequency\n",
       "0     A              1\n",
       "1     B              5\n",
       "2     C             26\n",
       "3     D             28\n",
       "4     F              2"
      ]
     },
     "execution_count": 8,
     "metadata": {},
     "output_type": "execute_result"
    }
   ],
   "source": [
    "# Agriculture Frequency Table\n",
    "agri_frequency = results['AGR'].value_counts()\n",
    "agri_freq = agri_frequency.reset_index().sort_values('index', ignore_index = True)\n",
    "agri_freq.rename(columns = {'index': 'Grade', 'AGR': 'Agr_frequency'}, inplace = True)\n",
    "agri_freq"
   ]
  },
  {
   "cell_type": "code",
   "execution_count": 9,
   "id": "a6afdd66",
   "metadata": {},
   "outputs": [
    {
     "data": {
      "image/png": "[encoded data removed]",
      "text/plain": [
       "<Figure size 640x480 with 1 Axes>"
      ]
     },
     "metadata": {},
     "output_type": "display_data"
    }
   ],
   "source": [
    "#Agriculture bar chart\n",
    "sns.countplot(data = results, x = 'AGR', width = 0.5)\n",
    "sns.despine(left = True, bottom = True)\n",
    "plt.tick_params(left = False, bottom = False)\n",
    "plt.show()"
   ]
  },
  {
   "cell_type": "code",
   "execution_count": 10,
   "id": "4676b606",
   "metadata": {},
   "outputs": [
    {
     "data": {
      "image/png": "[encoded data removed]",
      "text/plain": [
       "<Figure size 400x400 with 1 Axes>"
      ]
     },
     "metadata": {},
     "output_type": "display_data"
    }
   ],
   "source": [
    "plt.figure(figsize = (4,4))\n",
    "sns.countplot(data = results, x = 'AGR')\n",
    "sns.despine(left = True, bottom = True)\n",
    "plt.show()"
   ]
  },
  {
   "cell_type": "code",
   "execution_count": 11,
   "id": "e9bf2f3c",
   "metadata": {},
   "outputs": [
    {
     "data": {
      "text/html": [
       "<div>\n",
       "<style scoped>\n",
       "    .dataframe tbody tr th:only-of-type {\n",
       "        vertical-align: middle;\n",
       "    }\n",
       "\n",
       "    .dataframe tbody tr th {\n",
       "        vertical-align: top;\n",
       "    }\n",
       "\n",
       "    .dataframe thead th {\n",
       "        text-align: right;\n",
       "    }\n",
       "</style>\n",
       "<table border=\"1\" class=\"dataframe\">\n",
       "  <thead>\n",
       "    <tr style=\"text-align: right;\">\n",
       "      <th></th>\n",
       "      <th>Grade</th>\n",
       "      <th>Bio_frequency</th>\n",
       "    </tr>\n",
       "  </thead>\n",
       "  <tbody>\n",
       "    <tr>\n",
       "      <th>0</th>\n",
       "      <td>B</td>\n",
       "      <td>2</td>\n",
       "    </tr>\n",
       "    <tr>\n",
       "      <th>1</th>\n",
       "      <td>C</td>\n",
       "      <td>14</td>\n",
       "    </tr>\n",
       "    <tr>\n",
       "      <th>2</th>\n",
       "      <td>D</td>\n",
       "      <td>34</td>\n",
       "    </tr>\n",
       "    <tr>\n",
       "      <th>3</th>\n",
       "      <td>F</td>\n",
       "      <td>12</td>\n",
       "    </tr>\n",
       "  </tbody>\n",
       "</table>\n",
       "</div>"
      ],
      "text/plain": [
       "  Grade  Bio_frequency\n",
       "0     B              2\n",
       "1     C             14\n",
       "2     D             34\n",
       "3     F             12"
      ]
     },
     "execution_count": 11,
     "metadata": {},
     "output_type": "execute_result"
    }
   ],
   "source": [
    "# Biology Frequency Table\n",
    "bio_frequency = results['BIO'].value_counts()\n",
    "bio_freq = bio_frequency.reset_index().sort_values('index', ignore_index = True)\n",
    "bio_freq.rename(columns = {'index': 'Grade', 'BIO': 'Bio_frequency'}, inplace = True)\n",
    "bio_freq"
   ]
  },
  {
   "cell_type": "code",
   "execution_count": 12,
   "id": "30e498c8",
   "metadata": {},
   "outputs": [
    {
     "data": {
      "image/png": "[encoded data removed]",
      "text/plain": [
       "<Figure size 640x480 with 1 Axes>"
      ]
     },
     "metadata": {},
     "output_type": "display_data"
    }
   ],
   "source": [
    "# Biology Pie Chat\n",
    "bio_frequency.plot(kind = 'pie')\n",
    "plt.show()"
   ]
  },
  {
   "cell_type": "code",
   "execution_count": 13,
   "id": "dfacc136",
   "metadata": {},
   "outputs": [
    {
     "data": {
      "text/html": [
       "<div>\n",
       "<style scoped>\n",
       "    .dataframe tbody tr th:only-of-type {\n",
       "        vertical-align: middle;\n",
       "    }\n",
       "\n",
       "    .dataframe tbody tr th {\n",
       "        vertical-align: top;\n",
       "    }\n",
       "\n",
       "    .dataframe thead th {\n",
       "        text-align: right;\n",
       "    }\n",
       "</style>\n",
       "<table border=\"1\" class=\"dataframe\">\n",
       "  <thead>\n",
       "    <tr style=\"text-align: right;\">\n",
       "      <th></th>\n",
       "      <th>Grade</th>\n",
       "      <th>BKN_frequency</th>\n",
       "    </tr>\n",
       "  </thead>\n",
       "  <tbody>\n",
       "    <tr>\n",
       "      <th>0</th>\n",
       "      <td>A</td>\n",
       "      <td>9</td>\n",
       "    </tr>\n",
       "    <tr>\n",
       "      <th>1</th>\n",
       "      <td>B</td>\n",
       "      <td>4</td>\n",
       "    </tr>\n",
       "    <tr>\n",
       "      <th>2</th>\n",
       "      <td>C</td>\n",
       "      <td>13</td>\n",
       "    </tr>\n",
       "    <tr>\n",
       "      <th>3</th>\n",
       "      <td>D</td>\n",
       "      <td>28</td>\n",
       "    </tr>\n",
       "    <tr>\n",
       "      <th>4</th>\n",
       "      <td>F</td>\n",
       "      <td>8</td>\n",
       "    </tr>\n",
       "  </tbody>\n",
       "</table>\n",
       "</div>"
      ],
      "text/plain": [
       "  Grade  BKN_frequency\n",
       "0     A              9\n",
       "1     B              4\n",
       "2     C             13\n",
       "3     D             28\n",
       "4     F              8"
      ]
     },
     "execution_count": 13,
     "metadata": {},
     "output_type": "execute_result"
    }
   ],
   "source": [
    "# Bible Knowledge Frequency Table\n",
    "bkn_frequency = results['BKN'].value_counts()\n",
    "bkn_freq = bkn_frequency.reset_index().sort_values('index', ignore_index = True)\n",
    "bkn_freq.rename(columns = {'index': 'Grade', 'BKN': 'BKN_frequency'}, inplace = True)\n",
    "bkn_freq"
   ]
  },
  {
   "cell_type": "code",
   "execution_count": 14,
   "id": "7bdeaa35",
   "metadata": {},
   "outputs": [
    {
     "data": {
      "image/png": "[encoded data removed]",
      "text/plain": [
       "<Figure size 640x480 with 1 Axes>"
      ]
     },
     "metadata": {},
     "output_type": "display_data"
    }
   ],
   "source": [
    "# Bible Knowledge Bar Chart\n",
    "bkn_frequency.plot(kind = 'bar', color = 'green')\n",
    "plt.show()"
   ]
  },
  {
   "cell_type": "code",
   "execution_count": 15,
   "id": "4ec8a5c0",
   "metadata": {},
   "outputs": [
    {
     "data": {
      "text/html": [
       "<div>\n",
       "<style scoped>\n",
       "    .dataframe tbody tr th:only-of-type {\n",
       "        vertical-align: middle;\n",
       "    }\n",
       "\n",
       "    .dataframe tbody tr th {\n",
       "        vertical-align: top;\n",
       "    }\n",
       "\n",
       "    .dataframe thead th {\n",
       "        text-align: right;\n",
       "    }\n",
       "</style>\n",
       "<table border=\"1\" class=\"dataframe\">\n",
       "  <thead>\n",
       "    <tr style=\"text-align: right;\">\n",
       "      <th></th>\n",
       "      <th>Grade</th>\n",
       "      <th>CHE_frequency</th>\n",
       "    </tr>\n",
       "  </thead>\n",
       "  <tbody>\n",
       "    <tr>\n",
       "      <th>0</th>\n",
       "      <td>B</td>\n",
       "      <td>2</td>\n",
       "    </tr>\n",
       "    <tr>\n",
       "      <th>1</th>\n",
       "      <td>C</td>\n",
       "      <td>14</td>\n",
       "    </tr>\n",
       "    <tr>\n",
       "      <th>2</th>\n",
       "      <td>D</td>\n",
       "      <td>39</td>\n",
       "    </tr>\n",
       "    <tr>\n",
       "      <th>3</th>\n",
       "      <td>F</td>\n",
       "      <td>7</td>\n",
       "    </tr>\n",
       "  </tbody>\n",
       "</table>\n",
       "</div>"
      ],
      "text/plain": [
       "  Grade  CHE_frequency\n",
       "0     B              2\n",
       "1     C             14\n",
       "2     D             39\n",
       "3     F              7"
      ]
     },
     "execution_count": 15,
     "metadata": {},
     "output_type": "execute_result"
    }
   ],
   "source": [
    "# Chemistry Frequency Table\n",
    "che_frequency = results['CHE'].value_counts()\n",
    "che_freq = che_frequency.reset_index().sort_values('index', ignore_index = True)\n",
    "che_freq.rename(columns = {'index': 'Grade', 'CHE': 'CHE_frequency'},inplace = True)\n",
    "che_freq"
   ]
  },
  {
   "cell_type": "code",
   "execution_count": 16,
   "id": "80ab2dc4",
   "metadata": {},
   "outputs": [
    {
     "data": {
      "image/png": "[encoded data removed]",
      "text/plain": [
       "<Figure size 640x480 with 1 Axes>"
      ]
     },
     "metadata": {},
     "output_type": "display_data"
    }
   ],
   "source": [
    "# Chemistry Bar Chart\n",
    "che_frequency.plot(kind = 'bar')\n",
    "plt.show()"
   ]
  },
  {
   "cell_type": "code",
   "execution_count": 17,
   "id": "bccf7574",
   "metadata": {},
   "outputs": [
    {
     "data": {
      "text/html": [
       "<div>\n",
       "<style scoped>\n",
       "    .dataframe tbody tr th:only-of-type {\n",
       "        vertical-align: middle;\n",
       "    }\n",
       "\n",
       "    .dataframe tbody tr th {\n",
       "        vertical-align: top;\n",
       "    }\n",
       "\n",
       "    .dataframe thead th {\n",
       "        text-align: right;\n",
       "    }\n",
       "</style>\n",
       "<table border=\"1\" class=\"dataframe\">\n",
       "  <thead>\n",
       "    <tr style=\"text-align: right;\">\n",
       "      <th></th>\n",
       "      <th>Grade</th>\n",
       "      <th>CHI_frequency</th>\n",
       "    </tr>\n",
       "  </thead>\n",
       "  <tbody>\n",
       "    <tr>\n",
       "      <th>0</th>\n",
       "      <td>B</td>\n",
       "      <td>19</td>\n",
       "    </tr>\n",
       "    <tr>\n",
       "      <th>1</th>\n",
       "      <td>C</td>\n",
       "      <td>40</td>\n",
       "    </tr>\n",
       "    <tr>\n",
       "      <th>2</th>\n",
       "      <td>D</td>\n",
       "      <td>3</td>\n",
       "    </tr>\n",
       "  </tbody>\n",
       "</table>\n",
       "</div>"
      ],
      "text/plain": [
       "  Grade  CHI_frequency\n",
       "0     B             19\n",
       "1     C             40\n",
       "2     D              3"
      ]
     },
     "execution_count": 17,
     "metadata": {},
     "output_type": "execute_result"
    }
   ],
   "source": [
    "# Chichewa Frequency Table\n",
    "chi_frequency = results['CHI'].value_counts()\n",
    "chi_freq = chi_frequency.reset_index().sort_values('index', ignore_index = True)\n",
    "chi_freq.rename(columns = {'index': 'Grade', 'CHI': 'CHI_frequency'}, inplace = True)\n",
    "chi_freq"
   ]
  },
  {
   "cell_type": "code",
   "execution_count": 18,
   "id": "3809c073",
   "metadata": {},
   "outputs": [
    {
     "data": {
      "image/png": "[encoded data removed]",
      "text/plain": [
       "<Figure size 640x480 with 1 Axes>"
      ]
     },
     "metadata": {},
     "output_type": "display_data"
    }
   ],
   "source": [
    "# Chichewa Bar Chart\n",
    "chi_frequency.plot(kind = 'bar')\n",
    "plt.show()"
   ]
  },
  {
   "cell_type": "code",
   "execution_count": 19,
   "id": "2bd257e5",
   "metadata": {},
   "outputs": [
    {
     "data": {
      "text/html": [
       "<div>\n",
       "<style scoped>\n",
       "    .dataframe tbody tr th:only-of-type {\n",
       "        vertical-align: middle;\n",
       "    }\n",
       "\n",
       "    .dataframe tbody tr th {\n",
       "        vertical-align: top;\n",
       "    }\n",
       "\n",
       "    .dataframe thead th {\n",
       "        text-align: right;\n",
       "    }\n",
       "</style>\n",
       "<table border=\"1\" class=\"dataframe\">\n",
       "  <thead>\n",
       "    <tr style=\"text-align: right;\">\n",
       "      <th></th>\n",
       "      <th>Grade</th>\n",
       "      <th>ENG_frequency</th>\n",
       "    </tr>\n",
       "  </thead>\n",
       "  <tbody>\n",
       "    <tr>\n",
       "      <th>0</th>\n",
       "      <td>B</td>\n",
       "      <td>5</td>\n",
       "    </tr>\n",
       "    <tr>\n",
       "      <th>1</th>\n",
       "      <td>C</td>\n",
       "      <td>24</td>\n",
       "    </tr>\n",
       "    <tr>\n",
       "      <th>2</th>\n",
       "      <td>D</td>\n",
       "      <td>33</td>\n",
       "    </tr>\n",
       "  </tbody>\n",
       "</table>\n",
       "</div>"
      ],
      "text/plain": [
       "  Grade  ENG_frequency\n",
       "0     B              5\n",
       "1     C             24\n",
       "2     D             33"
      ]
     },
     "execution_count": 19,
     "metadata": {},
     "output_type": "execute_result"
    }
   ],
   "source": [
    "# English Frequency Table\n",
    "eng_frequency = results['ENG'].value_counts()\n",
    "eng_freq = eng_frequency.reset_index().sort_values('index', ignore_index = True)\n",
    "eng_freq.rename(columns = {'index': 'Grade', 'ENG': 'ENG_frequency'}, inplace = True)\n",
    "eng_freq"
   ]
  },
  {
   "cell_type": "code",
   "execution_count": null,
   "id": "630c1e7e",
   "metadata": {},
   "outputs": [],
   "source": [
    "# English Bar Chart\n",
    "eng_frequency.plot(kind = 'bar')\n",
    "plt.show()"
   ]
  },
  {
   "cell_type": "code",
   "execution_count": null,
   "id": "0fbd504f",
   "metadata": {},
   "outputs": [],
   "source": [
    "# Geography Frequency Table\n",
    "geo_frequency = results['GEO'].value_counts()\n",
    "geo_freq = geo_frequency.reset_index().sort_values('index', ignore_index = True)\n",
    "geo_freq.rename(columns = {'index': 'Grade', 'GEO': 'GEO_frequency'}, inplace = True)\n",
    "geo_freq"
   ]
  },
  {
   "cell_type": "code",
   "execution_count": null,
   "id": "fe068815",
   "metadata": {},
   "outputs": [],
   "source": [
    "# Geography Bar Chart\n",
    "geo_frequency.plot(kind = 'bar')\n",
    "plt.show()"
   ]
  },
  {
   "cell_type": "code",
   "execution_count": null,
   "id": "f7a2bdd5",
   "metadata": {},
   "outputs": [],
   "source": [
    "# History Frequency table\n",
    "his_frequency = results['HIS'].value_counts()\n",
    "his_freq = his_frequency.reset_index().sort_values('index', ignore_index = True)\n",
    "his_freq.rename(columns = {'index': 'Grade', 'HIS': 'HIS_frequency'}, inplace = True)\n",
    "his_freq"
   ]
  },
  {
   "cell_type": "code",
   "execution_count": null,
   "id": "427cf2e7",
   "metadata": {},
   "outputs": [],
   "source": [
    "# History Bar Chart\n",
    "his_frequency.plot(kind = 'bar')\n",
    "plt.show()"
   ]
  },
  {
   "cell_type": "code",
   "execution_count": null,
   "id": "a8d5891d",
   "metadata": {},
   "outputs": [],
   "source": [
    "# Mathematics Frequency Table\n",
    "mat_frequency = results['MAT'].value_counts()\n",
    "mat_freq = mat_frequency.reset_index().sort_values('index', ignore_index = True)\n",
    "mat_freq.rename(columns = {'index': 'Grade', 'MAT': 'MAT_frequency'}, inplace = True)\n",
    "mat_freq"
   ]
  },
  {
   "cell_type": "code",
   "execution_count": null,
   "id": "d67a3d32",
   "metadata": {},
   "outputs": [],
   "source": [
    "# Mathematics Bar Chart\n",
    "mat_frequency.plot(kind = 'bar')\n",
    "plt.show()"
   ]
  },
  {
   "cell_type": "code",
   "execution_count": null,
   "id": "8bd17d09",
   "metadata": {},
   "outputs": [],
   "source": [
    "# Physics Frequency Table\n",
    "phy_frequency = results['PHY'].value_counts()\n",
    "phy_freq = phy_frequency.reset_index().sort_values('index', ignore_index = True)\n",
    "phy_freq.rename(columns = {'index': 'Grade', 'PHY': 'PHY_frequency'}, inplace = True)\n",
    "phy_freq"
   ]
  },
  {
   "cell_type": "code",
   "execution_count": null,
   "id": "eedec063",
   "metadata": {},
   "outputs": [],
   "source": [
    "# Physics Bar Chart\n",
    "phy_frequency.plot(kind = 'bar')\n",
    "plt.show()"
   ]
  },
  {
   "cell_type": "code",
   "execution_count": null,
   "id": "e86702c5",
   "metadata": {},
   "outputs": [],
   "source": [
    "# Social and Life Skills Frequency Table\n",
    "soc_frequency = results['SOC'].value_counts()\n",
    "soc_freq = soc_frequency.reset_index().sort_values('index', ignore_index = True)\n",
    "soc_freq.rename(columns = {'index': 'Grade', 'SOC': 'SOC_frequency'}, inplace = True)\n",
    "soc_freq"
   ]
  },
  {
   "cell_type": "code",
   "execution_count": null,
   "id": "19b40555",
   "metadata": {},
   "outputs": [],
   "source": [
    "# Social and Life Skills Bar Chart\n",
    "soc_frequency.plot(kind = 'bar')\n",
    "plt.show()"
   ]
  },
  {
   "cell_type": "code",
   "execution_count": null,
   "id": "e1343d34",
   "metadata": {},
   "outputs": [],
   "source": [
    "agri_freq"
   ]
  },
  {
   "cell_type": "code",
   "execution_count": null,
   "id": "ff325af4",
   "metadata": {},
   "outputs": [],
   "source": [
    "mat_freq"
   ]
  },
  {
   "cell_type": "code",
   "execution_count": null,
   "id": "a241a292",
   "metadata": {},
   "outputs": [],
   "source": [
    "merged = pd.merge(mat_freq, chi_freq, left_on = 'Grade', right_on= 'Grade', how = 'left')\n",
    "merged"
   ]
  },
  {
   "cell_type": "code",
   "execution_count": null,
   "id": "9c5a4386",
   "metadata": {},
   "outputs": [],
   "source": [
    "merged = pd.merge(merged, agri_freq, left_on = 'Grade', right_on = 'Grade', how = 'left')\n",
    "merged"
   ]
  },
  {
   "cell_type": "code",
   "execution_count": null,
   "id": "72fb04e1",
   "metadata": {},
   "outputs": [],
   "source": [
    "merged = pd.merge(merged, soc_freq, left_on = 'Grade', right_on = 'Grade', how = 'left')\n",
    "merged = pd.merge(merged, phy_freq, left_on = 'Grade', right_on = 'Grade', how = 'left')\n",
    "merged = pd.merge(merged, geo_freq, left_on = 'Grade', right_on = 'Grade', how = 'left')\n",
    "merged = pd.merge(merged, his_freq, left_on = 'Grade', right_on = 'Grade', how = 'left')\n",
    "merged = pd.merge(merged, che_freq, left_on = 'Grade', right_on = 'Grade', how = 'left')\n",
    "merged = pd.merge(merged, eng_freq, left_on = 'Grade', right_on = 'Grade', how = 'left')\n",
    "merged = pd.merge(merged, bkn_freq, left_on = 'Grade', right_on = 'Grade', how = 'left')\n",
    "grade_freq = pd.merge(merged, bio_freq, left_on = 'Grade', right_on = 'Grade', how = 'left')\n",
    "grade_freq"
   ]
  },
  {
   "cell_type": "code",
   "execution_count": null,
   "id": "769e4e1a",
   "metadata": {},
   "outputs": [],
   "source": [
    "grade_freq.shape"
   ]
  },
  {
   "cell_type": "code",
   "execution_count": null,
   "id": "6ecdec11",
   "metadata": {},
   "outputs": [],
   "source": [
    "grade_freq.columns = ['Grade', 'MATHEMATICS', 'CHICHEWA', 'AGRICULTURE',\n",
    "       'SOCIAL STUDIES', 'PHYSICS', 'GEOGRAPHY', 'HISTORY',\n",
    "       'CHEMISTRY', 'ENGLISH', 'BIBLE KNOWLEDGE', 'BIOLOGY']\n",
    "grade_freq.fillna(0, inplace = True)\n",
    "grade_freq.set_index('Grade', inplace = True )\n",
    "grade_freq"
   ]
  },
  {
   "cell_type": "code",
   "execution_count": null,
   "id": "83c008ef",
   "metadata": {},
   "outputs": [],
   "source": [
    "grade_freq = grade_freq.transpose()\n",
    "grade_freq.index.name = None\n",
    "grade_freq"
   ]
  },
  {
   "cell_type": "code",
   "execution_count": null,
   "id": "3e21a4c0",
   "metadata": {},
   "outputs": [],
   "source": [
    "grade_freq['A'] = grade_freq['A'].astype('int')\n",
    "grade_freq['B'] = grade_freq['B'].astype('int')\n",
    "grade_freq['C'] = grade_freq['C'].astype('int')\n",
    "grade_freq['D'] = grade_freq['D'].astype('int')\n",
    "grade_freq['F'] = grade_freq['F'].astype('int')\n",
    "grade_freq"
   ]
  },
  {
   "cell_type": "code",
   "execution_count": null,
   "id": "0d3bd74d",
   "metadata": {},
   "outputs": [],
   "source": [
    "results.head()"
   ]
  },
  {
   "cell_type": "code",
   "execution_count": null,
   "id": "0ce5c907",
   "metadata": {},
   "outputs": [],
   "source": [
    "female_candidates = results[results['SEX'] == 'F']\n",
    "female_candidates.shape"
   ]
  },
  {
   "cell_type": "code",
   "execution_count": null,
   "id": "62e35e2d",
   "metadata": {},
   "outputs": [],
   "source": [
    "male_candidates = results[results['SEX'] == 'M']\n",
    "male_candidates.shape"
   ]
  },
  {
   "cell_type": "code",
   "execution_count": null,
   "id": "870702b5",
   "metadata": {},
   "outputs": [],
   "source": [
    "female_candidates_passed_agri = female_candidates[female_candidates['AGR'] != 'F']\n",
    "\n",
    "female_candidates_failed_agri = female_candidates[female_candidates['AGR'] == 'F']\n",
    "\n",
    "male_candidates_passed_agri = male_candidates[male_candidates['AGR'] != 'F']\n",
    "\n",
    "male_candidates_failed_agri = male_candidates[male_candidates['AGR'] == 'F']\n",
    "\n",
    "print(\"The number of female candidates that passed Agriculture: {0}.\".format(female_candidates_passed_agri.shape[0]))\n",
    "print(\"The number of female candidates that failed Agriculture: {0}.\".format(female_candidates_failed_agri.shape[0]))\n",
    "print(\"The number of male candidates that passed Agriculture: {0}.\".format(male_candidates_passed_agri.shape[0]))\n",
    "print(\"The number of male candidates that failed Agriculture: {0}.\".format(male_candidates_failed_agri.shape[0]))"
   ]
  },
  {
   "cell_type": "code",
   "execution_count": null,
   "id": "bded2e9d",
   "metadata": {},
   "outputs": [],
   "source": [
    "female_candidates_passed_bio = female_candidates[female_candidates['BIO'] != 'F']\n",
    "female_candidates_failed_bio = female_candidates[female_candidates['BIO'] == 'F']\n",
    "male_candidates_passed_bio = male_candidates[male_candidates['BIO'] != 'F']\n",
    "male_candidates_failed_bio = male_candidates[male_candidates['BIO'] == 'F']\n",
    "\n",
    "print(\"The number of female candidates that passed Biology: {0}.\".format(female_candidates_passed_bio.shape[0]))\n",
    "print(\"The number of female candidates that failed Biology: {0}.\".format(female_candidates_failed_bio.shape[0]))\n",
    "print(\"The number of male candidates that passed Biology: {0}.\".format(male_candidates_passed_bio.shape[0]))\n",
    "print(\"The number of male candidates failed Biology: {0}\".format(male_candidates_failed_bio.shape[0]))"
   ]
  },
  {
   "cell_type": "code",
   "execution_count": null,
   "id": "ee66cb51",
   "metadata": {},
   "outputs": [],
   "source": [
    "female_candidates_passed_che = female_candidates[female_candidates['CHE'] != 'F']\n",
    "female_candidates_failed_che = female_candidates[female_candidates['CHE'] == 'F']\n",
    "male_candidates_passed_che = male_candidates[male_candidates['CHE'] != 'F']\n",
    "male_candidates_failed_che = male_candidates[male_candidates['CHE'] == 'F']\n",
    "\n",
    "print(\"The number of female candidates that passed Chemeistry: {0}.\".format(female_candidates_passed_che.shape[0]))\n",
    "print(\"The number of female candidates that failed Chemistry: {0}.\".format(female_candidates_failed_che.shape[0]))\n",
    "print(\"The number of male candidates that passed Chemistry: {0}.\".format(male_candidates_passed_che.shape[0]))\n",
    "print(\"The number of male candidates failed Chemistry: {0}\".format(male_candidates_failed_che.shape[0]))"
   ]
  },
  {
   "cell_type": "code",
   "execution_count": null,
   "id": "0dc37086",
   "metadata": {},
   "outputs": [],
   "source": [
    "female_candidates_passed_chi = female_candidates[female_candidates['CHI'] != 'F']\n",
    "female_candidates_failed_chi = female_candidates[female_candidates['CHI'] == 'F']\n",
    "male_candidates_passed_chi = male_candidates[male_candidates['CHI'] != 'F']\n",
    "male_candidates_failed_chi = male_candidates[male_candidates['CHI'] == 'F']\n",
    "\n",
    "print(\"The number of female candidates that passed Chichewa: {0}.\".format(female_candidates_passed_chi.shape[0]))\n",
    "print(\"The number of female candidates that failed Chichewa: {0}.\".format(female_candidates_failed_chi.shape[0]))\n",
    "print(\"The number of male candidates that passed Chichewa: {0}.\".format(male_candidates_passed_chi.shape[0]))\n",
    "print(\"The number of male candidates failed Chichewa: {0}\".format(male_candidates_failed_chi.shape[0]))"
   ]
  },
  {
   "cell_type": "code",
   "execution_count": null,
   "id": "a8b1a4f6",
   "metadata": {},
   "outputs": [],
   "source": [
    "female_candidates_passed_mat = female_candidates[female_candidates['MAT'] != 'F']\n",
    "female_candidates_failed_mat = female_candidates[female_candidates['MAT'] == 'F']\n",
    "male_candidates_passed_mat = male_candidates[male_candidates['MAT'] != 'F']\n",
    "male_candidates_failed_mat = male_candidates[male_candidates['MAT'] == 'F']\n",
    "\n",
    "print(\"The number of female candidates that passed Mathematics: {0}.\".format(female_candidates_passed_mat.shape[0]))\n",
    "print(\"The number of female candidates that failed Mathematics: {0}.\".format(female_candidates_failed_mat.shape[0]))\n",
    "print(\"The number of male candidates that passed Mathematics: {0}.\".format(male_candidates_passed_mat.shape[0]))\n",
    "print(\"The number of male candidates failed Mathematics: {0}\".format(male_candidates_failed_mat.shape[0]))"
   ]
  },
  {
   "cell_type": "code",
   "execution_count": null,
   "id": "013d56a5",
   "metadata": {},
   "outputs": [],
   "source": [
    "female_candidates_passed_phy = female_candidates[female_candidates['PHY'] != 'F']\n",
    "female_candidates_failed_phy = female_candidates[female_candidates['PHY'] == 'F']\n",
    "male_candidates_passed_phy = male_candidates[male_candidates['PHY'] != 'F']\n",
    "male_candidates_failed_phy = male_candidates[male_candidates['PHY'] == 'F']\n",
    "\n",
    "print(\"The number of female candidates that passed Physics: {0}.\".format(female_candidates_passed_phy.shape[0]))\n",
    "print(\"The number of female candidates that failed Physics: {0}.\".format(female_candidates_failed_phy.shape[0]))\n",
    "print(\"The number of male candidates that passed Physics: {0}.\".format(male_candidates_passed_phy.shape[0]))\n",
    "print(\"The number of male candidates failed Physics: {0}\".format(male_candidates_failed_phy.shape[0]))"
   ]
  },
  {
   "cell_type": "code",
   "execution_count": null,
   "id": "c2c80e9f",
   "metadata": {},
   "outputs": [],
   "source": [
    "female_candidates_passed_soc = female_candidates[female_candidates['SOC'] != 'F']\n",
    "female_candidates_failed_soc = female_candidates[female_candidates['SOC'] == 'F']\n",
    "male_candidates_passed_soc = male_candidates[male_candidates['SOC'] != 'F']\n",
    "male_candidates_failed_soc = male_candidates[male_candidates['SOC'] == 'F']\n",
    "\n",
    "print(\"The number of female candidates that passed Social Studies: {0}.\".format(female_candidates_passed_soc.shape[0]))\n",
    "print(\"The number of female candidates that failed Social Studies: {0}.\".format(female_candidates_failed_soc.shape[0]))\n",
    "print(\"The number of male candidates that passed Social Studies: {0}.\".format(male_candidates_passed_soc.shape[0]))\n",
    "print(\"The number of male candidates failed Social Studies: {0}\".format(male_candidates_failed_soc.shape[0]))"
   ]
  },
  {
   "cell_type": "code",
   "execution_count": null,
   "id": "e40d509d",
   "metadata": {},
   "outputs": [],
   "source": [
    "female_candidates_passed_bkn = female_candidates[female_candidates['BKN'] != 'F']\n",
    "female_candidates_failed_bkn = female_candidates[female_candidates['BKN'] == 'F']\n",
    "male_candidates_passed_bkn = male_candidates[male_candidates['BKN'] != 'F']\n",
    "male_candidates_failed_bkn = male_candidates[male_candidates['BKN'] == 'F']\n",
    "\n",
    "print(\"The number of female candidates that passed Bible Knowlwdge: {0}.\".format(female_candidates_passed_bkn.shape[0]))\n",
    "print(\"The number of female candidates that failed Bible Knowledge: {0}.\".format(female_candidates_failed_bkn.shape[0]))\n",
    "print(\"The number of male candidates that passed Bible Knowledge: {0}.\".format(male_candidates_passed_bkn.shape[0]))\n",
    "print(\"The number of male candidates failed Bible Knowledge: {0}\".format(male_candidates_failed_bkn.shape[0]))"
   ]
  },
  {
   "cell_type": "code",
   "execution_count": null,
   "id": "e0a97d67",
   "metadata": {},
   "outputs": [],
   "source": [
    "female_candidates_passed_geo = female_candidates[female_candidates['GEO'] != 'F']\n",
    "female_candidates_failed_geo = female_candidates[female_candidates['GEO'] == 'F']\n",
    "male_candidates_passed_geo = male_candidates[male_candidates['GEO'] != 'F']\n",
    "male_candidates_failed_geo = male_candidates[male_candidates['GEO'] == 'F']\n",
    "\n",
    "print(\"The number of female candidates that passed Geography: {0}.\".format(female_candidates_passed_geo.shape[0]))\n",
    "print(\"The number of female candidates that failed Geography: {0}.\".format(female_candidates_failed_geo.shape[0]))\n",
    "print(\"The number of male candidates that passed Geograpghy: {0}.\".format(male_candidates_passed_geo.shape[0]))\n",
    "print(\"The number of male candidates failed Geography: {0}\".format(male_candidates_failed_geo.shape[0]))"
   ]
  },
  {
   "cell_type": "code",
   "execution_count": null,
   "id": "030d78a0",
   "metadata": {},
   "outputs": [],
   "source": [
    "female_candidates_passed_his = female_candidates[female_candidates['HIS'] != 'F']\n",
    "female_candidates_failed_his = female_candidates[female_candidates['HIS'] == 'F']\n",
    "male_candidates_passed_his = male_candidates[male_candidates['HIS'] != 'F']\n",
    "male_candidates_failed_his = male_candidates[male_candidates['HIS'] == 'F']\n",
    "\n",
    "print(\"The number of female candidates that passed History: {0}.\".format(female_candidates_passed_his.shape[0]))\n",
    "print(\"The number of female candidates that failed History: {0}.\".format(female_candidates_failed_his.shape[0]))\n",
    "print(\"The number of male candidates that passed History: {0}.\".format(male_candidates_passed_his.shape[0]))\n",
    "print(\"The number of male candidates failed History: {0}\".format(male_candidates_failed_his.shape[0]))"
   ]
  },
  {
   "cell_type": "code",
   "execution_count": null,
   "id": "e07a43c2",
   "metadata": {},
   "outputs": [],
   "source": [
    "female_candidates_passed_eng = female_candidates[female_candidates['ENG'] != 'F']\n",
    "female_candidates_failed_eng = female_candidates[female_candidates['ENG'] == 'F']\n",
    "male_candidates_passed_eng = male_candidates[male_candidates['ENG'] != 'F']\n",
    "male_candidates_failed_eng = male_candidates[male_candidates['ENG'] == 'F']\n",
    "\n",
    "print(\"The number of female candidates that passed English: {0}.\".format(female_candidates_passed_eng.shape[0]))\n",
    "print(\"The number of female candidates that failed English: {0}.\".format(female_candidates_failed_eng.shape[0]))\n",
    "print(\"The number of male candidates that passed English: {0}.\".format(male_candidates_passed_eng.shape[0]))\n",
    "print(\"The number of male candidates failed English: {0}\".format(male_candidates_failed_eng.shape[0]))"
   ]
  },
  {
   "cell_type": "code",
   "execution_count": null,
   "id": "02506118",
   "metadata": {},
   "outputs": [],
   "source": [
    "plt.subplots(nrows = 4, ncols = 3, figsize = (12, 10))\n",
    "plt.subplot(4, 3, 1)\n",
    "sns.countplot(data = results, x = 'AGR')\n",
    "sns.despine(left = True, bottom = True)\n",
    "plt.ylim(0, 40)\n",
    "plt.yticks([0, 10, 20, 30, 40])\n",
    "plt.ylabel('Number of candidates')\n",
    "plt.xlabel('')\n",
    "plt.title('Agriculture')\n",
    "\n",
    "plt.subplot(4, 3, 2)\n",
    "sns.countplot(data = results, x = 'CHE')\n",
    "plt.ylim(0, 40)\n",
    "plt.xlabel('')\n",
    "plt.yticks([])\n",
    "plt.ylabel('')\n",
    "plt.title('Chemistry')\n",
    "\n",
    "plt.subplot(4, 3, 3)\n",
    "sns.countplot(data = results, x = 'CHI')\n",
    "plt.ylim(0, 40)\n",
    "plt.xlabel('')\n",
    "plt.ylabel('')\n",
    "plt.yticks([])\n",
    "plt.title('Chichewa')\n",
    "\n",
    "plt.subplot(4, 3, 4)\n",
    "sns.countplot(data = results, x = 'ENG')\n",
    "plt.ylim(0, 40)\n",
    "plt.yticks([0, 10, 20, 30, 40])\n",
    "plt.ylabel('Number of Candidates')\n",
    "plt.xlabel('')\n",
    "plt.title('English')\n",
    "\n",
    "plt.subplot(4, 3, 5)\n",
    "sns.countplot(data = results, x = 'HIS')\n",
    "plt.ylim(0, 40)\n",
    "plt.xlabel('')\n",
    "plt.ylabel('')\n",
    "plt.yticks([])\n",
    "plt.title('History')\n",
    "\n",
    "plt.subplot(4, 3, 6)\n",
    "sns.countplot(data = results, x = 'PHY')\n",
    "plt.ylim(0, 40)\n",
    "plt.xlabel('')\n",
    "plt.ylabel('')\n",
    "plt.yticks([])\n",
    "plt.title('Physics')\n",
    "\n",
    "plt.subplot(4, 3, 7)\n",
    "sns.countplot(data = results, x = 'SOC')\n",
    "plt.ylim(0, 40)\n",
    "plt.xlabel('')\n",
    "plt.ylabel('Number of Candidates')\n",
    "plt.title('Social Studies')\n",
    "\n",
    "plt.subplot(4, 3, 8)\n",
    "sns.countplot(data = results, x = 'GEO')\n",
    "plt.ylim(0, 40)\n",
    "plt.xlabel('')\n",
    "plt.ylabel('')\n",
    "plt.yticks([])\n",
    "plt.title('Geography')\n",
    "\n",
    "plt.subplot(4, 3, 9)\n",
    "sns.countplot(data = results, x = 'MAT')\n",
    "plt.ylim(0, 40)\n",
    "plt.xlabel('')\n",
    "plt.ylabel('')\n",
    "plt.yticks([])\n",
    "plt.title('Mathematics')\n",
    "\n",
    "plt.subplot(4, 3, 10)\n",
    "sns.countplot(data = results, x = 'BIO')\n",
    "plt.ylim(0, 40)\n",
    "plt.xlabel('')\n",
    "plt.ylabel('Number of Candidates')\n",
    "plt.yticks([0, 10, 20, 30, 40])\n",
    "plt.title('Biology')\n",
    "\n",
    "plt.subplot(4, 3, 11)\n",
    "sns.countplot(data = results, x = 'BKN')\n",
    "plt.ylim(0, 40)\n",
    "plt.xlabel('')\n",
    "plt.ylabel('')\n",
    "plt.yticks([])\n",
    "plt.title('Bible Knowledge')\n",
    "\n",
    "plt.show()"
   ]
  },
  {
   "cell_type": "code",
   "execution_count": null,
   "id": "0f812f48",
   "metadata": {},
   "outputs": [],
   "source": [
    "sns.set_theme()\n",
    "sns.catplot(data = results, x = 'AGR', kind = 'count', hue = 'MAT')\n",
    "plt.grid(visible = False)\n",
    "plt.xlabel('')\n",
    "plt.ylabel('Number of Candidates')\n",
    "plt.title('Agriculture')\n",
    "plt.yticks([])\n",
    "plt.show()"
   ]
  },
  {
   "cell_type": "code",
   "execution_count": null,
   "id": "424b4711",
   "metadata": {},
   "outputs": [],
   "source": []
  }
 ],
 "metadata": {
  "kernelspec": {
   "display_name": "Python 3 (ipykernel)",
   "language": "python",
   "name": "python3"
  },
  "language_info": {
   "codemirror_mode": {
    "name": "ipython",
    "version": 3
   },
   "file_extension": ".py",
   "mimetype": "text/x-python",
   "name": "python",
   "nbconvert_exporter": "python",
   "pygments_lexer": "ipython3",
   "version": "3.10.9"
  }
 },
 "nbformat": 4,
 "nbformat_minor": 5
}
